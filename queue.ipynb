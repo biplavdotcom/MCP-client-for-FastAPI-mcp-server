{
 "cells": [
  {
   "cell_type": "code",
   "execution_count": 1,
   "id": "424b38e1",
   "metadata": {},
   "outputs": [],
   "source": [
    "import pika"
   ]
  },
  {
   "cell_type": "markdown",
   "id": "22016bb2",
   "metadata": {},
   "source": [
    "# Producer"
   ]
  },
  {
   "cell_type": "code",
   "execution_count": null,
   "id": "b9f67dc1",
   "metadata": {},
   "outputs": [],
   "source": [
    "connection = pika.BlockingConnection(pika.ConnectionParameters(\"localhost\"))\n",
    "channel = connection.channel()"
   ]
  },
  {
   "cell_type": "code",
   "execution_count": null,
   "id": "22b5be79",
   "metadata": {},
   "outputs": [],
   "source": [
    "channel.queue_declare(queue=\"signup\")\n",
    "channel.basic_publish(exchange=\"\", routing_key=\"signup\", body=\"Hello World\")"
   ]
  },
  {
   "cell_type": "code",
   "execution_count": 16,
   "id": "e646c874",
   "metadata": {},
   "outputs": [],
   "source": [
    "channel.basic_publish(exchange=\"\", routing_key=\"signup\", body=\"Hello Everybody\")"
   ]
  },
  {
   "cell_type": "markdown",
   "id": "24fe8781",
   "metadata": {},
   "source": [
    "# Callback "
   ]
  },
  {
   "cell_type": "code",
   "execution_count": 10,
   "id": "5285c512",
   "metadata": {},
   "outputs": [],
   "source": [
    "connection = pika.BlockingConnection(pika.ConnectionParameters('localhost'))\n",
    "channel = connection.channel()"
   ]
  },
  {
   "cell_type": "markdown",
   "id": "b1761bf9",
   "metadata": {},
   "source": [
    "# Call queue"
   ]
  },
  {
   "cell_type": "code",
   "execution_count": 11,
   "id": "6ac65453",
   "metadata": {},
   "outputs": [
    {
     "data": {
      "text/plain": [
       "<METHOD(['channel_number=1', 'frame_type=1', \"method=<Queue.DeclareOk(['consumer_count=0', 'message_count=3', 'queue=signup'])>\"])>"
      ]
     },
     "execution_count": 11,
     "metadata": {},
     "output_type": "execute_result"
    }
   ],
   "source": [
    "channel.queue_declare(queue=\"signup\")"
   ]
  },
  {
   "cell_type": "code",
   "execution_count": 13,
   "id": "31dc8623",
   "metadata": {},
   "outputs": [],
   "source": [
    "def callback(ch, method, properties, body):\n",
    "    print(\" [x] Received %r\" % body)"
   ]
  },
  {
   "cell_type": "code",
   "execution_count": 14,
   "id": "171ce5c4",
   "metadata": {},
   "outputs": [
    {
     "data": {
      "text/plain": [
       "'ctag1.614c71ad2d0245f4adf825410c7abbf8'"
      ]
     },
     "execution_count": 14,
     "metadata": {},
     "output_type": "execute_result"
    }
   ],
   "source": [
    "channel.basic_consume(queue=\"signup\", on_message_callback=callback)"
   ]
  },
  {
   "cell_type": "code",
   "execution_count": 15,
   "id": "5593412c",
   "metadata": {},
   "outputs": [
    {
     "name": "stdout",
     "output_type": "stream",
     "text": [
      " [x] Received b'Hello World'\n",
      " [x] Received b'Hello World'\n",
      " [x] Received b'Hello World'\n"
     ]
    },
    {
     "ename": "KeyboardInterrupt",
     "evalue": "",
     "output_type": "error",
     "traceback": [
      "\u001b[31m---------------------------------------------------------------------------\u001b[39m",
      "\u001b[31mKeyboardInterrupt\u001b[39m                         Traceback (most recent call last)",
      "\u001b[36mCell\u001b[39m\u001b[36m \u001b[39m\u001b[32mIn[15]\u001b[39m\u001b[32m, line 1\u001b[39m\n\u001b[32m----> \u001b[39m\u001b[32m1\u001b[39m \u001b[43mchannel\u001b[49m\u001b[43m.\u001b[49m\u001b[43mstart_consuming\u001b[49m\u001b[43m(\u001b[49m\u001b[43m)\u001b[49m\n",
      "\u001b[36mFile \u001b[39m\u001b[32mc:\\empire\\fastapi\\fastapi-mcp\\signup_login\\.venv\\Lib\\site-packages\\pika\\adapters\\blocking_connection.py:1883\u001b[39m, in \u001b[36mBlockingChannel.start_consuming\u001b[39m\u001b[34m(self)\u001b[39m\n\u001b[32m   1880\u001b[39m \u001b[38;5;66;03m# Process events as long as consumers exist on this channel\u001b[39;00m\n\u001b[32m   1881\u001b[39m \u001b[38;5;28;01mwhile\u001b[39;00m \u001b[38;5;28mself\u001b[39m._consumer_infos:\n\u001b[32m   1882\u001b[39m     \u001b[38;5;66;03m# This will raise ChannelClosed if channel is closed by broker\u001b[39;00m\n\u001b[32m-> \u001b[39m\u001b[32m1883\u001b[39m     \u001b[38;5;28;43mself\u001b[39;49m\u001b[43m.\u001b[49m\u001b[43m_process_data_events\u001b[49m\u001b[43m(\u001b[49m\u001b[43mtime_limit\u001b[49m\u001b[43m=\u001b[49m\u001b[38;5;28;43;01mNone\u001b[39;49;00m\u001b[43m)\u001b[49m\n",
      "\u001b[36mFile \u001b[39m\u001b[32mc:\\empire\\fastapi\\fastapi-mcp\\signup_login\\.venv\\Lib\\site-packages\\pika\\adapters\\blocking_connection.py:2044\u001b[39m, in \u001b[36mBlockingChannel._process_data_events\u001b[39m\u001b[34m(self, time_limit)\u001b[39m\n\u001b[32m   2025\u001b[39m \u001b[38;5;28;01mdef\u001b[39;00m\u001b[38;5;250m \u001b[39m\u001b[34m_process_data_events\u001b[39m(\u001b[38;5;28mself\u001b[39m, time_limit):\n\u001b[32m   2026\u001b[39m \u001b[38;5;250m    \u001b[39m\u001b[33;03m\"\"\"Wrapper for `BlockingConnection.process_data_events()` with common\u001b[39;00m\n\u001b[32m   2027\u001b[39m \u001b[33;03m    channel-specific logic that raises ChannelClosed if broker closed this\u001b[39;00m\n\u001b[32m   2028\u001b[39m \u001b[33;03m    channel.\u001b[39;00m\n\u001b[32m   (...)\u001b[39m\u001b[32m   2042\u001b[39m \n\u001b[32m   2043\u001b[39m \u001b[33;03m    \"\"\"\u001b[39;00m\n\u001b[32m-> \u001b[39m\u001b[32m2044\u001b[39m     \u001b[38;5;28;43mself\u001b[39;49m\u001b[43m.\u001b[49m\u001b[43mconnection\u001b[49m\u001b[43m.\u001b[49m\u001b[43mprocess_data_events\u001b[49m\u001b[43m(\u001b[49m\u001b[43mtime_limit\u001b[49m\u001b[43m=\u001b[49m\u001b[43mtime_limit\u001b[49m\u001b[43m)\u001b[49m\n\u001b[32m   2045\u001b[39m     \u001b[38;5;28;01mif\u001b[39;00m \u001b[38;5;28mself\u001b[39m.is_closed \u001b[38;5;129;01mand\u001b[39;00m \u001b[38;5;28misinstance\u001b[39m(\u001b[38;5;28mself\u001b[39m._closing_reason,\n\u001b[32m   2046\u001b[39m                                      exceptions.ChannelClosedByBroker):\n\u001b[32m   2047\u001b[39m         LOGGER.debug(\u001b[33m'\u001b[39m\u001b[33mChannel close by broker detected, raising \u001b[39m\u001b[38;5;132;01m%r\u001b[39;00m\u001b[33m; \u001b[39m\u001b[38;5;132;01m%r\u001b[39;00m\u001b[33m'\u001b[39m,\n\u001b[32m   2048\u001b[39m                      \u001b[38;5;28mself\u001b[39m._closing_reason, \u001b[38;5;28mself\u001b[39m)\n",
      "\u001b[36mFile \u001b[39m\u001b[32mc:\\empire\\fastapi\\fastapi-mcp\\signup_login\\.venv\\Lib\\site-packages\\pika\\adapters\\blocking_connection.py:842\u001b[39m, in \u001b[36mBlockingConnection.process_data_events\u001b[39m\u001b[34m(self, time_limit)\u001b[39m\n\u001b[32m    838\u001b[39m common_terminator = \u001b[38;5;28;01mlambda\u001b[39;00m: \u001b[38;5;28mbool\u001b[39m(dispatch_acquired \u001b[38;5;129;01mand\u001b[39;00m\n\u001b[32m    839\u001b[39m                                  (\u001b[38;5;28mself\u001b[39m._channels_pending_dispatch \u001b[38;5;129;01mor\u001b[39;00m\n\u001b[32m    840\u001b[39m                                   \u001b[38;5;28mself\u001b[39m._ready_events))\n\u001b[32m    841\u001b[39m \u001b[38;5;28;01mif\u001b[39;00m time_limit \u001b[38;5;129;01mis\u001b[39;00m \u001b[38;5;28;01mNone\u001b[39;00m:\n\u001b[32m--> \u001b[39m\u001b[32m842\u001b[39m     \u001b[38;5;28;43mself\u001b[39;49m\u001b[43m.\u001b[49m\u001b[43m_flush_output\u001b[49m\u001b[43m(\u001b[49m\u001b[43mcommon_terminator\u001b[49m\u001b[43m)\u001b[49m\n\u001b[32m    843\u001b[39m \u001b[38;5;28;01melse\u001b[39;00m:\n\u001b[32m    844\u001b[39m     \u001b[38;5;28;01mwith\u001b[39;00m _IoloopTimerContext(time_limit, \u001b[38;5;28mself\u001b[39m._impl) \u001b[38;5;28;01mas\u001b[39;00m timer:\n",
      "\u001b[36mFile \u001b[39m\u001b[32mc:\\empire\\fastapi\\fastapi-mcp\\signup_login\\.venv\\Lib\\site-packages\\pika\\adapters\\blocking_connection.py:514\u001b[39m, in \u001b[36mBlockingConnection._flush_output\u001b[39m\u001b[34m(self, *waiters)\u001b[39m\n\u001b[32m    512\u001b[39m \u001b[38;5;66;03m# Process I/O until our completion condition is satisfied\u001b[39;00m\n\u001b[32m    513\u001b[39m \u001b[38;5;28;01mwhile\u001b[39;00m \u001b[38;5;129;01mnot\u001b[39;00m is_done():\n\u001b[32m--> \u001b[39m\u001b[32m514\u001b[39m     \u001b[38;5;28;43mself\u001b[39;49m\u001b[43m.\u001b[49m\u001b[43m_impl\u001b[49m\u001b[43m.\u001b[49m\u001b[43mioloop\u001b[49m\u001b[43m.\u001b[49m\u001b[43mpoll\u001b[49m\u001b[43m(\u001b[49m\u001b[43m)\u001b[49m\n\u001b[32m    515\u001b[39m     \u001b[38;5;28mself\u001b[39m._impl.ioloop.process_timeouts()\n\u001b[32m    517\u001b[39m \u001b[38;5;28;01mif\u001b[39;00m \u001b[38;5;28mself\u001b[39m._closed_result.ready:\n",
      "\u001b[36mFile \u001b[39m\u001b[32mc:\\empire\\fastapi\\fastapi-mcp\\signup_login\\.venv\\Lib\\site-packages\\pika\\adapters\\select_connection.py:579\u001b[39m, in \u001b[36mIOLoop.poll\u001b[39m\u001b[34m(self)\u001b[39m\n\u001b[32m    572\u001b[39m \u001b[38;5;28;01mdef\u001b[39;00m\u001b[38;5;250m \u001b[39m\u001b[34mpoll\u001b[39m(\u001b[38;5;28mself\u001b[39m):\n\u001b[32m    573\u001b[39m \u001b[38;5;250m    \u001b[39m\u001b[33;03m\"\"\"[Extension] Wait for events of interest on registered file\u001b[39;00m\n\u001b[32m    574\u001b[39m \u001b[33;03m    descriptors until an event of interest occurs or next timer deadline or\u001b[39;00m\n\u001b[32m    575\u001b[39m \u001b[33;03m    `_PollerBase._MAX_POLL_TIMEOUT`, whichever is sooner, and dispatch the\u001b[39;00m\n\u001b[32m    576\u001b[39m \u001b[33;03m    corresponding event handlers.\u001b[39;00m\n\u001b[32m    577\u001b[39m \n\u001b[32m    578\u001b[39m \u001b[33;03m    \"\"\"\u001b[39;00m\n\u001b[32m--> \u001b[39m\u001b[32m579\u001b[39m     \u001b[38;5;28;43mself\u001b[39;49m\u001b[43m.\u001b[49m\u001b[43m_poller\u001b[49m\u001b[43m.\u001b[49m\u001b[43mpoll\u001b[49m\u001b[43m(\u001b[49m\u001b[43m)\u001b[49m\n",
      "\u001b[36mFile \u001b[39m\u001b[32mc:\\empire\\fastapi\\fastapi-mcp\\signup_login\\.venv\\Lib\\site-packages\\pika\\adapters\\select_connection.py:953\u001b[39m, in \u001b[36mSelectPoller.poll\u001b[39m\u001b[34m(self)\u001b[39m\n\u001b[32m    949\u001b[39m \u001b[38;5;28;01mtry\u001b[39;00m:\n\u001b[32m    950\u001b[39m     \u001b[38;5;28;01mif\u001b[39;00m (\u001b[38;5;28mself\u001b[39m._fd_events[PollEvents.READ] \u001b[38;5;129;01mor\u001b[39;00m\n\u001b[32m    951\u001b[39m             \u001b[38;5;28mself\u001b[39m._fd_events[PollEvents.WRITE] \u001b[38;5;129;01mor\u001b[39;00m\n\u001b[32m    952\u001b[39m             \u001b[38;5;28mself\u001b[39m._fd_events[PollEvents.ERROR]):\n\u001b[32m--> \u001b[39m\u001b[32m953\u001b[39m         read, write, error = \u001b[43mselect\u001b[49m\u001b[43m.\u001b[49m\u001b[43mselect\u001b[49m\u001b[43m(\u001b[49m\n\u001b[32m    954\u001b[39m \u001b[43m            \u001b[49m\u001b[38;5;28;43mself\u001b[39;49m\u001b[43m.\u001b[49m\u001b[43m_fd_events\u001b[49m\u001b[43m[\u001b[49m\u001b[43mPollEvents\u001b[49m\u001b[43m.\u001b[49m\u001b[43mREAD\u001b[49m\u001b[43m]\u001b[49m\u001b[43m,\u001b[49m\n\u001b[32m    955\u001b[39m \u001b[43m            \u001b[49m\u001b[38;5;28;43mself\u001b[39;49m\u001b[43m.\u001b[49m\u001b[43m_fd_events\u001b[49m\u001b[43m[\u001b[49m\u001b[43mPollEvents\u001b[49m\u001b[43m.\u001b[49m\u001b[43mWRITE\u001b[49m\u001b[43m]\u001b[49m\u001b[43m,\u001b[49m\n\u001b[32m    956\u001b[39m \u001b[43m            \u001b[49m\u001b[38;5;28;43mself\u001b[39;49m\u001b[43m.\u001b[49m\u001b[43m_fd_events\u001b[49m\u001b[43m[\u001b[49m\u001b[43mPollEvents\u001b[49m\u001b[43m.\u001b[49m\u001b[43mERROR\u001b[49m\u001b[43m]\u001b[49m\u001b[43m,\u001b[49m\u001b[43m \u001b[49m\u001b[38;5;28;43mself\u001b[39;49m\u001b[43m.\u001b[49m\u001b[43m_get_max_wait\u001b[49m\u001b[43m(\u001b[49m\u001b[43m)\u001b[49m\u001b[43m)\u001b[49m\n\u001b[32m    957\u001b[39m     \u001b[38;5;28;01melse\u001b[39;00m:\n\u001b[32m    958\u001b[39m         \u001b[38;5;66;03m# NOTE When called without any FDs, select fails on\u001b[39;00m\n\u001b[32m    959\u001b[39m         \u001b[38;5;66;03m# Windows with error 10022, 'An invalid argument was\u001b[39;00m\n\u001b[32m    960\u001b[39m         \u001b[38;5;66;03m# supplied'.\u001b[39;00m\n\u001b[32m    961\u001b[39m         time.sleep(\u001b[38;5;28mself\u001b[39m._get_max_wait())\n",
      "\u001b[31mKeyboardInterrupt\u001b[39m: "
     ]
    }
   ],
   "source": [
    "channel.start_consuming()"
   ]
  },
  {
   "cell_type": "markdown",
   "id": "700973e6",
   "metadata": {},
   "source": [
    "# Bcrypt"
   ]
  },
  {
   "cell_type": "code",
   "execution_count": null,
   "id": "71a71a77",
   "metadata": {},
   "outputs": [],
   "source": [
    "import bcrypt"
   ]
  },
  {
   "cell_type": "markdown",
   "id": "28e4b23e",
   "metadata": {},
   "source": [
    "## hash pw"
   ]
  },
  {
   "cell_type": "code",
   "execution_count": null,
   "id": "7065e01b",
   "metadata": {},
   "outputs": [
    {
     "name": "stdout",
     "output_type": "stream",
     "text": [
      "b'$2b$12$Ar.yh99jOZFGBwFO/34jfOgt6uyGPktUaPNJ7WmTNesrtu7a1692e'\n",
      "$2b$12$Ar.yh99jOZFGBwFO/34jfOgt6uyGPktUaPNJ7WmTNesrtu7a1692e\n"
     ]
    },
    {
     "ename": "",
     "evalue": "",
     "output_type": "error",
     "traceback": [
      "\u001b[1;31mThe Kernel crashed while executing code in the current cell or a previous cell. \n",
      "\u001b[1;31mPlease review the code in the cell(s) to identify a possible cause of the failure. \n",
      "\u001b[1;31mClick <a href='https://aka.ms/vscodeJupyterKernelCrash'>here</a> for more info. \n",
      "\u001b[1;31mView Jupyter <a href='command:jupyter.viewOutput'>log</a> for further details."
     ]
    }
   ],
   "source": [
    "my_pass = \"bhelo@123\"\n",
    "hashed = bcrypt.hashpw(my_pass.encode(\"utf-8\"), bcrypt.gensalt())\n",
    "print(hashed)\n",
    "print(hashed.decode(\"utf-8\"))"
   ]
  },
  {
   "cell_type": "markdown",
   "id": "d2f4867b",
   "metadata": {},
   "source": [
    "## Check pw"
   ]
  },
  {
   "cell_type": "code",
   "execution_count": 7,
   "id": "684d6f52",
   "metadata": {},
   "outputs": [
    {
     "name": "stdout",
     "output_type": "stream",
     "text": [
      "Password matches\n"
     ]
    }
   ],
   "source": [
    "entered_pass = input(\"Enter your password: \")\n",
    "if bcrypt.checkpw(entered_pass.encode(\"utf-8\"), hashed):\n",
    "    print(\"Password matches\")"
   ]
  }
 ],
 "metadata": {
  "kernelspec": {
   "display_name": ".venv",
   "language": "python",
   "name": "python3"
  },
  "language_info": {
   "codemirror_mode": {
    "name": "ipython",
    "version": 3
   },
   "file_extension": ".py",
   "mimetype": "text/x-python",
   "name": "python",
   "nbconvert_exporter": "python",
   "pygments_lexer": "ipython3",
   "version": "3.13.5"
  }
 },
 "nbformat": 4,
 "nbformat_minor": 5
}
